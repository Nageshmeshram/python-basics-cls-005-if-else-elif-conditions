{
 "cells": [
  {
   "cell_type": "code",
   "execution_count": 1,
   "id": "cd91cd35",
   "metadata": {},
   "outputs": [
    {
     "ename": "SyntaxError",
     "evalue": "invalid syntax (318151129.py, line 2)",
     "output_type": "error",
     "traceback": [
      "\u001b[1;36m  Input \u001b[1;32mIn [1]\u001b[1;36m\u001b[0m\n\u001b[1;33m    if a == 10\u001b[0m\n\u001b[1;37m              ^\u001b[0m\n\u001b[1;31mSyntaxError\u001b[0m\u001b[1;31m:\u001b[0m invalid syntax\n"
     ]
    }
   ],
   "source": [
    "a = 10\n",
    "if a == 10\n"
   ]
  },
  {
   "cell_type": "code",
   "execution_count": 2,
   "id": "9407a558",
   "metadata": {},
   "outputs": [
    {
     "name": "stdout",
     "output_type": "stream",
     "text": [
      "True\n"
     ]
    }
   ],
   "source": [
    "a = 10\n",
    "if a == 10:\n",
    "    print('True')"
   ]
  },
  {
   "cell_type": "code",
   "execution_count": 3,
   "id": "caf45327",
   "metadata": {},
   "outputs": [
    {
     "name": "stdout",
     "output_type": "stream",
     "text": [
      "false\n"
     ]
    }
   ],
   "source": [
    "if a == 11:\n",
    "    print('true')\n",
    "print('false')"
   ]
  },
  {
   "cell_type": "code",
   "execution_count": 4,
   "id": "6e56b69f",
   "metadata": {},
   "outputs": [
    {
     "name": "stdout",
     "output_type": "stream",
     "text": [
      "true\n",
      "false\n"
     ]
    }
   ],
   "source": [
    "if a == 10:\n",
    "    print('true')\n",
    "print('false')"
   ]
  },
  {
   "cell_type": "code",
   "execution_count": 6,
   "id": "69bec753",
   "metadata": {},
   "outputs": [
    {
     "name": "stdout",
     "output_type": "stream",
     "text": [
      "true\n"
     ]
    }
   ],
   "source": [
    "if a==10:\n",
    "    print('true')\n",
    "else :\n",
    "    print('false')"
   ]
  },
  {
   "cell_type": "code",
   "execution_count": 7,
   "id": "362f5565",
   "metadata": {},
   "outputs": [
    {
     "name": "stdout",
     "output_type": "stream",
     "text": [
      "condition is false\n"
     ]
    }
   ],
   "source": [
    "if a > 10:\n",
    "    print('condition is true')\n",
    "else:\n",
    "    print('condition is false')"
   ]
  },
  {
   "cell_type": "code",
   "execution_count": 8,
   "id": "6c15edae",
   "metadata": {},
   "outputs": [
    {
     "name": "stdout",
     "output_type": "stream",
     "text": [
      "condition is true\n"
     ]
    }
   ],
   "source": [
    "if a > 5:\n",
    "    print('condition is true')\n",
    "else:\n",
    "    print('condition is false')"
   ]
  },
  {
   "cell_type": "code",
   "execution_count": 9,
   "id": "5c5458f4",
   "metadata": {},
   "outputs": [
    {
     "name": "stdout",
     "output_type": "stream",
     "text": [
      "condition is false\n"
     ]
    }
   ],
   "source": [
    "a = 10\n",
    "if a != 11:\n",
    "    print('condition is false')\n",
    "else :\n",
    "    print(\"ture\")"
   ]
  },
  {
   "cell_type": "code",
   "execution_count": 10,
   "id": "ca83dc18",
   "metadata": {},
   "outputs": [
    {
     "name": "stdout",
     "output_type": "stream",
     "text": [
      "ture\n"
     ]
    }
   ],
   "source": [
    "a = 10\n",
    "if a == 11:\n",
    "    print('condition is false')\n",
    "else :\n",
    "    print(\"ture\")"
   ]
  },
  {
   "cell_type": "code",
   "execution_count": 11,
   "id": "55855f3c",
   "metadata": {},
   "outputs": [
    {
     "name": "stdout",
     "output_type": "stream",
     "text": [
      "print if all fails\n"
     ]
    }
   ],
   "source": [
    "a = 10\n",
    "if a == 12:\n",
    "    print('here we are compare 10 with 12')\n",
    "elif a == 11:\n",
    "    print('comparing 10 with 11')\n",
    "else: \n",
    "    print('print if all fails')"
   ]
  },
  {
   "cell_type": "code",
   "execution_count": 12,
   "id": "b6307fe8",
   "metadata": {},
   "outputs": [
    {
     "name": "stdout",
     "output_type": "stream",
     "text": [
      "comparing 10 with 11\n"
     ]
    }
   ],
   "source": [
    "a = 10\n",
    "if a == 12:\n",
    "    print('here we are compare 10 with 12')\n",
    "elif a == 10:\n",
    "    print('comparing 10 with 11')\n",
    "else: \n",
    "    print('print if all fails')"
   ]
  },
  {
   "cell_type": "code",
   "execution_count": 13,
   "id": "d685953f",
   "metadata": {},
   "outputs": [
    {
     "name": "stdout",
     "output_type": "stream",
     "text": [
      "here we are compare 10 with 12\n"
     ]
    }
   ],
   "source": [
    "a = 10\n",
    "if a != 12:\n",
    "    print('here we are compare 10 with 12')\n",
    "elif a != 10:\n",
    "    print('comparing 10 with 11')\n",
    "else: \n",
    "    print('print if all fails')"
   ]
  },
  {
   "cell_type": "code",
   "execution_count": 15,
   "id": "f344cb39",
   "metadata": {},
   "outputs": [
    {
     "name": "stdout",
     "output_type": "stream",
     "text": [
      "i will buy the jacket\n"
     ]
    }
   ],
   "source": [
    "price = 500\n",
    "if price > 500:\n",
    "    print('i wont buy jacket')\n",
    "elif price <= 500:\n",
    "    print('i will buy the jacket')"
   ]
  },
  {
   "cell_type": "code",
   "execution_count": 16,
   "id": "d412db37",
   "metadata": {},
   "outputs": [
    {
     "ename": "SyntaxError",
     "evalue": "invalid syntax (3592455959.py, line 6)",
     "output_type": "error",
     "traceback": [
      "\u001b[1;36m  Input \u001b[1;32mIn [16]\u001b[1;36m\u001b[0m\n\u001b[1;33m    else price == 500:\u001b[0m\n\u001b[1;37m         ^\u001b[0m\n\u001b[1;31mSyntaxError\u001b[0m\u001b[1;31m:\u001b[0m invalid syntax\n"
     ]
    }
   ],
   "source": [
    "price = 500\n",
    "if price > 500:\n",
    "    print('i wont buy jacket')\n",
    "elif price <= 500:\n",
    "    print('i will buy the jacket')\n",
    "else price == 500:\n",
    "    \n",
    "    # we are not supposed to give condition in else"
   ]
  },
  {
   "cell_type": "code",
   "execution_count": 21,
   "id": "2a3e4e26",
   "metadata": {},
   "outputs": [
    {
     "name": "stdout",
     "output_type": "stream",
     "text": [
      "dont know\n"
     ]
    }
   ],
   "source": [
    "price = 500\n",
    "if price > 500:\n",
    "    print('i wont buy jacket')\n",
    "elif price < 500:\n",
    "    print('i will buy the jacket')\n",
    "elif price == 501:\n",
    "    print('i bought it')\n",
    "else: print('dont know')"
   ]
  },
  {
   "cell_type": "code",
   "execution_count": 24,
   "id": "a649cee0",
   "metadata": {},
   "outputs": [
    {
     "name": "stdout",
     "output_type": "stream",
     "text": [
      "not in list\n"
     ]
    }
   ],
   "source": [
    "l =[1,2,3,4,5,6,7]\n",
    "if 20in l:\n",
    "    print(\"yes 2 in list\")\n",
    "else:\n",
    "    print('not in list')"
   ]
  },
  {
   "cell_type": "code",
   "execution_count": 26,
   "id": "4c6102ae",
   "metadata": {},
   "outputs": [
    {
     "name": "stdout",
     "output_type": "stream",
     "text": [
      "try addition\n"
     ]
    }
   ],
   "source": [
    "if 1 in l:\n",
    "    print(\"try addition\")\n",
    "elif 2 in l:\n",
    "    print(\"try subtraction\")\n",
    "elif 3 in l:\n",
    "    print(\"try multiplication\")\n",
    "elif 4 in l:\n",
    "    print(\"try division\")"
   ]
  },
  {
   "cell_type": "code",
   "execution_count": 27,
   "id": "17fdab01",
   "metadata": {},
   "outputs": [
    {
     "name": "stdout",
     "output_type": "stream",
     "text": [
      "try subtraction\n"
     ]
    }
   ],
   "source": [
    "if 10 in l:\n",
    "    print(\"try addition\")\n",
    "elif 2 in l:\n",
    "    print(\"try subtraction\")\n",
    "elif 3 in l:\n",
    "    print(\"try multiplication\")\n",
    "elif 4 in l:\n",
    "    print(\"try division\")"
   ]
  },
  {
   "cell_type": "code",
   "execution_count": 28,
   "id": "5dca4089",
   "metadata": {},
   "outputs": [
    {
     "name": "stdout",
     "output_type": "stream",
     "text": [
      "try multiplication\n"
     ]
    }
   ],
   "source": [
    "if 10 in l:\n",
    "    print(\"try addition\")\n",
    "elif 20 in l:\n",
    "    print(\"try subtraction\")\n",
    "elif 3 in l:\n",
    "    print(\"try multiplication\")\n",
    "elif 4 in l:\n",
    "    print(\"try division\")"
   ]
  },
  {
   "cell_type": "code",
   "execution_count": 30,
   "id": "e8f6b1d6",
   "metadata": {},
   "outputs": [
    {
     "name": "stdout",
     "output_type": "stream",
     "text": [
      "try division\n",
      "this is new\n"
     ]
    }
   ],
   "source": [
    "if 10 in l:\n",
    "    print(\"try addition\")\n",
    "elif 20 in l:\n",
    "    print(\"try subtraction\")\n",
    "elif 30 in l:\n",
    "    print(\"try multiplication\")\n",
    "elif 4 in l:\n",
    "    print(\"try division\")\n",
    "if 4 in l:\n",
    "    print(\"this is new\")"
   ]
  },
  {
   "cell_type": "code",
   "execution_count": 31,
   "id": "99a85109",
   "metadata": {},
   "outputs": [],
   "source": [
    "a = 400\n"
   ]
  },
  {
   "cell_type": "code",
   "execution_count": 36,
   "id": "2a338e46",
   "metadata": {},
   "outputs": [
    {
     "name": "stdout",
     "output_type": "stream",
     "text": [
      "100\n"
     ]
    }
   ],
   "source": [
    "b  = input() # by default every thing is in string only"
   ]
  },
  {
   "cell_type": "code",
   "execution_count": 37,
   "id": "dfac65f9",
   "metadata": {},
   "outputs": [
    {
     "data": {
      "text/plain": [
       "'100'"
      ]
     },
     "execution_count": 37,
     "metadata": {},
     "output_type": "execute_result"
    }
   ],
   "source": [
    "b"
   ]
  },
  {
   "cell_type": "code",
   "execution_count": 41,
   "id": "970f4ce3",
   "metadata": {},
   "outputs": [
    {
     "name": "stdout",
     "output_type": "stream",
     "text": [
      "50\n"
     ]
    }
   ],
   "source": [
    "c = int(input()) # this is type casting to input funtion"
   ]
  },
  {
   "cell_type": "code",
   "execution_count": 42,
   "id": "20e28b1e",
   "metadata": {},
   "outputs": [
    {
     "data": {
      "text/plain": [
       "50"
      ]
     },
     "execution_count": 42,
     "metadata": {},
     "output_type": "execute_result"
    }
   ],
   "source": [
    "c"
   ]
  },
  {
   "cell_type": "code",
   "execution_count": 45,
   "id": "3ebc28d0",
   "metadata": {},
   "outputs": [
    {
     "name": "stdout",
     "output_type": "stream",
     "text": [
      "10\n",
      "i will not be able to buy jacket\n",
      "i will buy jacket\n"
     ]
    }
   ],
   "source": [
    "c = int(input())\n",
    "if c < 500 :\n",
    "    print(\"i will not be able to buy jacket\")\n",
    "    if c < 400 :\n",
    "        print('i will buy jacket')\n",
    "    elif c < 300 :\n",
    "        print('i will buy shirt ')\n",
    "    else:\n",
    "        print(\"buy ri=umal\")\n",
    "else :\n",
    "    print(\"nothin not enough money\")\n",
    "    "
   ]
  },
  {
   "cell_type": "code",
   "execution_count": 2,
   "id": "0d46a31a",
   "metadata": {},
   "outputs": [
    {
     "name": "stdout",
     "output_type": "stream",
     "text": [
      "500\n",
      "i can buy jacket\n"
     ]
    }
   ],
   "source": [
    "cost = int(input())\n",
    "if cost < 600:\n",
    "    print('i can buy jacket')\n",
    "elif cost < 400:\n",
    "    print('i can bye jeans')\n",
    "elif cost < 300:\n",
    "    print('i can buy shirt')\n",
    "elif cost < 200:\n",
    "    print('i can buy t-shirt')\n",
    "else :\n",
    "    print('not enough money')\n"
   ]
  },
  {
   "cell_type": "code",
   "execution_count": 7,
   "id": "2786037c",
   "metadata": {},
   "outputs": [
    {
     "ename": "SyntaxError",
     "evalue": "cannot assign to literal (1265003962.py, line 2)",
     "output_type": "error",
     "traceback": [
      "\u001b[1;36m  Input \u001b[1;32mIn [7]\u001b[1;36m\u001b[0m\n\u001b[1;33m    for 1 in l:\u001b[0m\n\u001b[1;37m        ^\u001b[0m\n\u001b[1;31mSyntaxError\u001b[0m\u001b[1;31m:\u001b[0m cannot assign to literal\n"
     ]
    }
   ],
   "source": [
    "l = [1,2,3,4]\n",
    "for 1 in l:\n",
    "    cost = int(input())\n",
    "    if cost < 600:\n",
    "        print('i can buy jacket')\n",
    "    elif cost < 400:\n",
    "        print('i can bye jeans')\n",
    "    elif cost < 300:\n",
    "        print('i can buy shirt')\n",
    "    elif cost < 200:\n",
    "        print('i can buy t-shirt')\n",
    "    else :\n",
    "        print('not enough money')\n",
    "    "
   ]
  },
  {
   "cell_type": "code",
   "execution_count": 2,
   "id": "068e8a08",
   "metadata": {},
   "outputs": [
    {
     "name": "stdout",
     "output_type": "stream",
     "text": [
      "450\n",
      "no GRE\n",
      "NO TOFEL\n"
     ]
    }
   ],
   "source": [
    "marks = int(input())\n",
    "if marks < 600:\n",
    "    print(\"no GRE\")\n",
    "    if marks <500:\n",
    "        print(\"NO TOFEL\")\n",
    "        if marks < 400:\n",
    "            print(\"nothing do again\")\n",
    "    else:\n",
    "        print('get TOFEL')\n",
    "else:\n",
    "    print('you got GRE')"
   ]
  },
  {
   "cell_type": "code",
   "execution_count": 8,
   "id": "50903d84",
   "metadata": {},
   "outputs": [
    {
     "name": "stdout",
     "output_type": "stream",
     "text": [
      "Enter the floating point number = 5\n",
      "+ve number\n"
     ]
    }
   ],
   "source": [
    "val = float(input(\"Enter the floating point number = \"))\n",
    "if val >=0:\n",
    "    if val ==0:\n",
    "        print(\"entered value is zero\")\n",
    "    else:\n",
    "        print(\"+ve number\")\n",
    "else:\n",
    "    print('-ve number')"
   ]
  },
  {
   "cell_type": "code",
   "execution_count": 11,
   "id": "c8c65543",
   "metadata": {},
   "outputs": [
    {
     "name": "stdout",
     "output_type": "stream",
     "text": [
      "try to do somthing\n"
     ]
    }
   ],
   "source": [
    "a = 10\n",
    "if a < 10 or a == 10: # uses of or ture if any one is true\n",
    "    print('try to do somthing')"
   ]
  },
  {
   "cell_type": "code",
   "execution_count": 12,
   "id": "13bed516",
   "metadata": {},
   "outputs": [],
   "source": [
    "a = 10\n",
    "if a > 10 or a < 10:\n",
    "    print(\"try to do something\")"
   ]
  },
  {
   "cell_type": "code",
   "execution_count": 14,
   "id": "162b944c",
   "metadata": {},
   "outputs": [],
   "source": [
    "# and condition \n",
    "a = 10\n",
    "if a < 10 and a ==10:\n",
    "    print('try to do something')"
   ]
  },
  {
   "cell_type": "code",
   "execution_count": 18,
   "id": "67a371d4",
   "metadata": {},
   "outputs": [
    {
     "name": "stdout",
     "output_type": "stream",
     "text": [
      "try to do something\n"
     ]
    }
   ],
   "source": [
    "# and condition \n",
    "a = 5\n",
    "if a < 10 and a <= 15:\n",
    "    print('try to do something')"
   ]
  },
  {
   "cell_type": "code",
   "execution_count": 19,
   "id": "d23804a8",
   "metadata": {},
   "outputs": [
    {
     "name": "stdout",
     "output_type": "stream",
     "text": [
      "this is nagesh\n"
     ]
    }
   ],
   "source": [
    "s = \"nagesh\"\n",
    "if s=='nagesh' or s == \"Nagesh\":\n",
    "    print(\"this is nagesh\")"
   ]
  },
  {
   "cell_type": "code",
   "execution_count": 21,
   "id": "3b6a52a3",
   "metadata": {},
   "outputs": [
    {
     "name": "stdout",
     "output_type": "stream",
     "text": [
      "not match\n"
     ]
    }
   ],
   "source": [
    "s = \"nagesh\"\n",
    "if s=='nagesh' and s == \"Nagesh\":\n",
    "    print(\"this is nagesh\")\n",
    "else:\n",
    "    print(\"not match\")"
   ]
  },
  {
   "cell_type": "code",
   "execution_count": 22,
   "id": "164fbe4c",
   "metadata": {},
   "outputs": [],
   "source": [
    "a = 10\n",
    "b = 11\n",
    "c = 12\n",
    "d = 13\n",
    "if a == 9 and b == 11 and c == 13 and d ==13:\n",
    "    print(\"lets do something\")"
   ]
  },
  {
   "cell_type": "code",
   "execution_count": 24,
   "id": "65e13a67",
   "metadata": {},
   "outputs": [
    {
     "name": "stdout",
     "output_type": "stream",
     "text": [
      "lets do something\n"
     ]
    }
   ],
   "source": [
    "a = 10\n",
    "b = 11\n",
    "c = 12\n",
    "d = 13\n",
    "if a == 9 or b == 11 and c == 12 and d ==13:\n",
    "    print(\"lets do something\")"
   ]
  },
  {
   "cell_type": "code",
   "execution_count": 25,
   "id": "ba2c84b6",
   "metadata": {},
   "outputs": [],
   "source": [
    "d = {'key10':'value','key2':'nagesh','key3':'hello'}"
   ]
  },
  {
   "cell_type": "code",
   "execution_count": 30,
   "id": "636a77db",
   "metadata": {},
   "outputs": [
    {
     "name": "stdout",
     "output_type": "stream",
     "text": [
      "all matches\n",
      "dict_values(['value', 'nagesh', 'hello'])\n"
     ]
    }
   ],
   "source": [
    "if d['key10']=='value' and d['key2']=='nagesh' and d['key3']=='hello':\n",
    "    print(\"all matches\")\n",
    "    print(d.values())\n",
    "else:\n",
    "    print(\"not match\")"
   ]
  },
  {
   "cell_type": "code",
   "execution_count": null,
   "id": "f7923f1e",
   "metadata": {},
   "outputs": [],
   "source": []
  }
 ],
 "metadata": {
  "kernelspec": {
   "display_name": "Python 3 (ipykernel)",
   "language": "python",
   "name": "python3"
  },
  "language_info": {
   "codemirror_mode": {
    "name": "ipython",
    "version": 3
   },
   "file_extension": ".py",
   "mimetype": "text/x-python",
   "name": "python",
   "nbconvert_exporter": "python",
   "pygments_lexer": "ipython3",
   "version": "3.9.12"
  }
 },
 "nbformat": 4,
 "nbformat_minor": 5
}
